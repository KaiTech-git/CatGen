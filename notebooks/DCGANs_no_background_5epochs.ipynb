{
  "cells": [
    {
      "cell_type": "markdown",
      "metadata": {},
      "source": [
        "# Training Description\n",
        "DCGAN model training based on the [article](https://arxiv.org/abs/1511.06434) and torch [implementation](https://pytorch.org/tutorials/beginner/dcgan_faces_tutorial.html). Model were trained based on over 1000 photos of British Shorthair orange cat. In the process of augmentation training data were extended to over 76,000 photos. Training lasted 5 epochs and was performed on photos without background."
      ]
    },
    {
      "cell_type": "markdown",
      "metadata": {},
      "source": [
        "# Project Initialization\n",
        "Necessary libraries installation and import "
      ]
    },
    {
      "cell_type": "code",
      "execution_count": null,
      "metadata": {
        "colab": {
          "base_uri": "https://localhost:8080/"
        },
        "id": "chUZ1Dp9v5h0",
        "outputId": "eaf6d8c9-1d87-4923-fb25-798eccf5b7c2"
      },
      "outputs": [],
      "source": [
        "%pip install torch\n",
        "%pip install torchvision\n",
        "%pip install numpy\n",
        "%pip install matplotlib\n",
        "%pip install IPython\n",
        "%pip install pickle\n",
        "%pip install opencv-python\n",
        "%pip install plotly"
      ]
    },
    {
      "cell_type": "code",
      "execution_count": null,
      "metadata": {
        "id": "gGWPGeLAmlJa"
      },
      "outputs": [],
      "source": [
        "import os\n",
        "import random\n",
        "import torch\n",
        "import torch.nn as nn\n",
        "import torch.nn.parallel\n",
        "import torch.optim as optim\n",
        "import torch.utils.data\n",
        "import torchvision.datasets as dset\n",
        "import torchvision.transforms as transforms\n",
        "import torchvision.utils as vutils\n",
        "import numpy as np\n",
        "import matplotlib.pyplot as plt\n",
        "import matplotlib.animation as animation\n",
        "from IPython.display import HTML\n",
        "from time import time\n",
        "import pathlib\n",
        "from PIL import Image\n",
        "from google.colab import drive,files\n",
        "import plotly.express as px\n",
        "import cv2\n",
        "import pickle"
      ]
    },
    {
      "cell_type": "code",
      "execution_count": null,
      "metadata": {
        "colab": {
          "base_uri": "https://localhost:8080/"
        },
        "id": "_WQ027UnWvHN",
        "outputId": "2761c3f4-d12d-4d81-99e0-cefe90452535"
      },
      "outputs": [
        {
          "name": "stdout",
          "output_type": "stream",
          "text": [
            "Tue Jul 23 16:13:31 2024       \n",
            "+---------------------------------------------------------------------------------------+\n",
            "| NVIDIA-SMI 535.104.05             Driver Version: 535.104.05   CUDA Version: 12.2     |\n",
            "|-----------------------------------------+----------------------+----------------------+\n",
            "| GPU  Name                 Persistence-M | Bus-Id        Disp.A | Volatile Uncorr. ECC |\n",
            "| Fan  Temp   Perf          Pwr:Usage/Cap |         Memory-Usage | GPU-Util  Compute M. |\n",
            "|                                         |                      |               MIG M. |\n",
            "|=========================================+======================+======================|\n",
            "|   0  Tesla T4                       Off | 00000000:00:04.0 Off |                    0 |\n",
            "| N/A   36C    P8               9W /  70W |      0MiB / 15360MiB |      0%      Default |\n",
            "|                                         |                      |                  N/A |\n",
            "+-----------------------------------------+----------------------+----------------------+\n",
            "                                                                                         \n",
            "+---------------------------------------------------------------------------------------+\n",
            "| Processes:                                                                            |\n",
            "|  GPU   GI   CI        PID   Type   Process name                            GPU Memory |\n",
            "|        ID   ID                                                             Usage      |\n",
            "|=======================================================================================|\n",
            "|  No running processes found                                                           |\n",
            "+---------------------------------------------------------------------------------------+\n"
          ]
        }
      ],
      "source": [
        "# bsh command to check GPU parameters\n",
        "!nvidia-smi"
      ]
    },
    {
      "cell_type": "markdown",
      "metadata": {},
      "source": [
        "Code in the box below can be useful to check if GPU is available within this session of Colab. "
      ]
    },
    {
      "cell_type": "code",
      "execution_count": null,
      "metadata": {
        "colab": {
          "base_uri": "https://localhost:8080/"
        },
        "id": "KvPn_x6_WvjP",
        "outputId": "dca97b56-d93a-4966-fd39-75d15788ef22"
      },
      "outputs": [
        {
          "name": "stdout",
          "output_type": "stream",
          "text": [
            "Time taken: 0.5278134346008301 seconds\n"
          ]
        }
      ],
      "source": [
        "# Check if GPU is available\n",
        "device = torch.device(\"cuda\" if torch.cuda.is_available() else \"cpu\")\n",
        "os.environ[\"CUBLAS_WORKSPACE_CONFIG\"]=\":4096:8\"\n",
        "# Generate random data\n",
        "a = torch.randn(10000, 10000, device=device)\n",
        "b = torch.randn(10000, 10000, device=device)\n",
        "\n",
        "# Time matrix multiplication on GPU\n",
        "start_time = time()\n",
        "c = torch.matmul(a, b)\n",
        "torch.cuda.synchronize()  # Wait for the computation to finish\n",
        "end_time = time()\n",
        "\n",
        "print(f\"Time taken: {end_time - start_time} seconds\")"
      ]
    },
    {
      "cell_type": "code",
      "execution_count": null,
      "metadata": {
        "colab": {
          "base_uri": "https://localhost:8080/"
        },
        "id": "BO8r0nn0WhAF",
        "outputId": "007d0657-2f23-4e9b-a505-1837188789eb"
      },
      "outputs": [
        {
          "name": "stdout",
          "output_type": "stream",
          "text": [
            "Random Seed:  1066\n"
          ]
        }
      ],
      "source": [
        "manualSeed = 1066\n",
        "# manualSeed = random.randint(1, 10000) \n",
        "print(\"Random Seed: \", manualSeed)\n",
        "random.seed(manualSeed)\n",
        "torch.manual_seed(manualSeed)\n",
        "torch.use_deterministic_algorithms(True) # Needed for reproducible results"
      ]
    },
    {
      "cell_type": "markdown",
      "metadata": {
        "id": "6tOCbM79oWgc"
      },
      "source": [
        "# Model Input"
      ]
    },
    {
      "cell_type": "code",
      "execution_count": null,
      "metadata": {
        "id": "AL77eniYnSWM"
      },
      "outputs": [],
      "source": [
        "# Root directory for dataset\n",
        "dataroot = \"/content/drive/MyDrive/Colab Notebooks/CatGen/data/VERIFIED DATA/6.Photos_64px\"\n",
        "\n",
        "# Number of workers for dataloader\n",
        "workers = 8\n",
        "\n",
        "# Batch size during training\n",
        "batch_size = 64\n",
        "\n",
        "# Spatial size of training images. All images will be resized to this\n",
        "#   size using a transformer.\n",
        "image_size = 64\n",
        "\n",
        "# Number of channels in the training images. For color images this is 3\n",
        "nc = 3\n",
        "\n",
        "# Size of z latent vector (i.e. size of generator input)\n",
        "nz = 100\n",
        "\n",
        "# Size of feature maps in generator\n",
        "ngf = 64\n",
        "\n",
        "# Size of feature maps in discriminator\n",
        "ndf = 64\n",
        "\n",
        "# Number of training epochs\n",
        "num_epochs = 5\n",
        "\n",
        "# Learning rate for optimizers\n",
        "lr = 0.0002\n",
        "\n",
        "# Beta1 hyperparameter for Adam optimizers\n",
        "beta1 = 0.5\n",
        "\n",
        "# Number of GPUs available. Use 0 for CPU mode.\n",
        "ngpu = 1"
      ]
    },
    {
      "cell_type": "markdown",
      "metadata": {
        "id": "0Z0f-OYxoane"
      },
      "source": [
        "# Dataset\n",
        "Connecting Colab with Google Drive"
      ]
    },
    {
      "cell_type": "code",
      "execution_count": null,
      "metadata": {
        "colab": {
          "base_uri": "https://localhost:8080/"
        },
        "id": "CfFKgSV_oldY",
        "outputId": "7f8e72b4-442c-4a96-f8dc-0e4c4cce0dd1"
      },
      "outputs": [
        {
          "name": "stdout",
          "output_type": "stream",
          "text": [
            "Mounted at /content/drive/\n"
          ]
        }
      ],
      "source": [
        "# Connect to Google Drive\n",
        "drive.mount('/content/drive/')\n"
      ]
    },
    {
      "cell_type": "code",
      "execution_count": null,
      "metadata": {
        "colab": {
          "base_uri": "https://localhost:8080/"
        },
        "id": "rvLfNLmFvCSl",
        "outputId": "f9661a76-146f-4847-ca80-5c171e903806"
      },
      "outputs": [
        {
          "name": "stdout",
          "output_type": "stream",
          "text": [
            "GPU available\n"
          ]
        }
      ],
      "source": [
        "if torch.cuda.is_available:\n",
        "  print('GPU available')\n",
        "else:\n",
        "  print('Please set GPU via Edit -> Notebook Settings.')\n"
      ]
    },
    {
      "cell_type": "markdown",
      "metadata": {},
      "source": [
        "Test of Google Drive connection.  The connection to Google Drive often breaks down, so it is worth testing before loading dataset. "
      ]
    },
    {
      "cell_type": "code",
      "execution_count": null,
      "metadata": {
        "colab": {
          "base_uri": "https://localhost:8080/",
          "height": 542
        },
        "id": "RTt_yg3Eza6V",
        "outputId": "609058d4-9624-4edb-b72e-c837adce3a53"
      },
      "outputs": [],
      "source": [
        "\n",
        "def image_load(file_path: str) ->np.ndarray:\n",
        "    img = cv2.imread(file_path)[:,:,: :-1] # Read image in BRG and convert to RGB\n",
        "\n",
        "    return img\n",
        "\n",
        "def show_img(img:np.ndarray,title:str ) -> None:\n",
        "    fig= px.imshow(img,title=title)\n",
        "    fig.show()\n",
        "\n",
        "if os.path.isfile(dataroot+\"/kota_64_778.jpeg\"):\n",
        "  show_img(image_load(dataroot+\"/kota_64_778.jpeg\"),\"test\")\n",
        "else:\n",
        "  print(\"File not found\")\n"
      ]
    },
    {
      "cell_type": "markdown",
      "metadata": {},
      "source": [
        "## Custom Dataset Class\n",
        "Definition of ImageFolderCustom class based on torch Dataset class in order to load custom dataset. Class created on the [article](https://www.learnpytorch.io/04_pytorch_custom_datasets/)."
      ]
    },
    {
      "cell_type": "code",
      "execution_count": null,
      "metadata": {
        "colab": {
          "base_uri": "https://localhost:8080/"
        },
        "id": "diHZ9sKNn_xJ",
        "outputId": "1882493f-fa19-48c5-c540-d9bf63cf8e82"
      },
      "outputs": [],
      "source": [
        "# We can use an image folder dataset the way we have it setup.\n",
        "# Define Dataset class\n",
        "\n",
        "# 1. Subclass torch.utils.data.Dataset\n",
        "class ImageFolderCustom(torch.utils.data.Dataset):\n",
        "\n",
        "    # 2. Initialize with a targ_dir parameter\n",
        "    def __init__(self, targ_dir: str, transform=None) -> None:\n",
        "\n",
        "        # 3. Create class attributes\n",
        "        # Get all image paths\n",
        "        self.paths = list(pathlib.Path(targ_dir).glob(\"*.jpeg\"))\n",
        "        print(self.paths)\n",
        "        # Setup transforms\n",
        "        self.transform = transform\n",
        "\n",
        "        # Create classes and class_to_idx attributes\n",
        "        self.classes, self.class_to_idx = ['cat'], {'cat' : 1} #find_classes(targ_dir)\n",
        "\n",
        "    # 4. Make function to load images\n",
        "    def load_image(self, index: int) -> Image.Image:\n",
        "        \"Opens an image via a path and returns it.\"\n",
        "        image_path = self.paths[index]\n",
        "        return Image.open(image_path)\n",
        "\n",
        "    # 5. Overwrite the __len__() method (optional but recommended for subclasses of torch.utils.data.Dataset)\n",
        "    def __len__(self) -> int:\n",
        "        \"Returns the total number of samples.\"\n",
        "        return len(self.paths)\n",
        "\n",
        "    # 6. Overwrite the __getitem__() method (required for subclasses of torch.utils.data.Dataset)\n",
        "    def __getitem__(self, index: int) -> torch.Tensor:\n",
        "        \"Returns one sample of data (X,y).\"\n",
        "        img = self.load_image(index)\n",
        "        class_name  = 'cat'#self.paths[index].parent.name  expects path in data_folder/class_name/image.jpeg\n",
        "        class_idx = self.class_to_idx[class_name]\n",
        "\n",
        "        # Transform if necessary\n",
        "        if self.transform:\n",
        "            return self.transform(img),class_idx # return data\n",
        "        else:\n",
        "            return img, class_idx# return data\n",
        "\n",
        "#Get dataset\n",
        "def get_dataset(dataset_path) -> torch.utils.data.Dataset:\n",
        "    transform = transforms.Compose([\n",
        "        transforms.ToTensor(),\n",
        "        transforms.Normalize((0.5, 0.5, 0.5), (0.5, 0.5, 0.5)),\n",
        "    ])\n",
        "    train_set = ImageFolderCustom(\n",
        "        targ_dir =  dataset_path,\n",
        "        transform = transform\n",
        "    )\n",
        "    return train_set\n",
        "\n",
        "# Create the dataset\n",
        "dataset = get_dataset(dataroot)\n",
        "# Create the dataloader\n",
        "dataloader = torch.utils.data.DataLoader(dataset, batch_size=batch_size,\n",
        "                                         shuffle=True, num_workers=workers)"
      ]
    },
    {
      "cell_type": "markdown",
      "metadata": {},
      "source": [
        "Visualization of a few loaded photos to check the results of load."
      ]
    },
    {
      "cell_type": "code",
      "execution_count": null,
      "metadata": {
        "colab": {
          "base_uri": "https://localhost:8080/",
          "height": 692
        },
        "id": "-Kyx8i9zysMR",
        "outputId": "6bd779e6-a34e-4bba-8758-f241130ed75b"
      },
      "outputs": [],
      "source": [
        "# Decide which device we want to run on\n",
        "device = torch.device(\"cuda:0\" if (torch.cuda.is_available() and ngpu > 0) else \"cpu\")\n",
        "print(device)\n",
        "# Plot some training images\n",
        "real_batch = next(iter(dataloader))\n",
        "plt.figure(figsize=(8,8))\n",
        "plt.axis(\"off\")\n",
        "plt.title(\"Training Images\")\n",
        "plt.imshow(np.transpose(vutils.make_grid(real_batch[0].to(device)[:64], padding=2, normalize=True).cpu(),(1,2,0)))\n",
        "plt.show()"
      ]
    },
    {
      "cell_type": "markdown",
      "metadata": {},
      "source": [
        "<img alt=\"Dataset sample\" src=\"img/no_bg_5ep/Dataset.png\" />"
      ]
    },
    {
      "cell_type": "markdown",
      "metadata": {
        "id": "COuOWJswsvmE"
      },
      "source": [
        "# Model Implementation"
      ]
    },
    {
      "cell_type": "markdown",
      "metadata": {
        "id": "2LHaU2TKtAIO"
      },
      "source": [
        "## Weights Initialization"
      ]
    },
    {
      "cell_type": "code",
      "execution_count": null,
      "metadata": {
        "id": "-5oTqHnPsvLa"
      },
      "outputs": [],
      "source": [
        "# custom weights initialization called on ``netG`` and ``netD``\n",
        "def weights_init(m):\n",
        "    classname = m.__class__.__name__\n",
        "    if classname.find('Conv') != -1:\n",
        "        nn.init.normal_(m.weight.data, 0.0, 0.02)\n",
        "    elif classname.find('BatchNorm') != -1:\n",
        "        nn.init.normal_(m.weight.data, 1.0, 0.02)\n",
        "        nn.init.constant_(m.bias.data, 0)"
      ]
    },
    {
      "cell_type": "markdown",
      "metadata": {
        "id": "yLSdQW5BtVjc"
      },
      "source": [
        "## Generator Class Definition"
      ]
    },
    {
      "cell_type": "code",
      "execution_count": null,
      "metadata": {
        "id": "1OI6rTSptkwZ"
      },
      "outputs": [],
      "source": [
        "# Generator Code\n",
        "\n",
        "class Generator(nn.Module):\n",
        "    def __init__(self, ngpu):\n",
        "        super(Generator, self).__init__()\n",
        "        self.ngpu = ngpu\n",
        "        self.main = nn.Sequential(\n",
        "            # input is Z, going into a convolution\n",
        "            nn.ConvTranspose2d( nz, ngf * 8, 4, 1, 0, bias=False),\n",
        "            nn.BatchNorm2d(ngf * 8),\n",
        "            nn.ReLU(True),\n",
        "            # state size. ``(ngf*8) x 4 x 4``\n",
        "            nn.ConvTranspose2d(ngf * 8, ngf * 4, 4, 2, 1, bias=False),\n",
        "            nn.BatchNorm2d(ngf * 4),\n",
        "            nn.ReLU(True),\n",
        "            # state size. ``(ngf*4) x 8 x 8``\n",
        "            nn.ConvTranspose2d( ngf * 4, ngf * 2, 4, 2, 1, bias=False),\n",
        "            nn.BatchNorm2d(ngf * 2),\n",
        "            nn.ReLU(True),\n",
        "            # state size. ``(ngf*2) x 16 x 16``\n",
        "            nn.ConvTranspose2d( ngf * 2, ngf, 4, 2, 1, bias=False),\n",
        "            nn.BatchNorm2d(ngf),\n",
        "            nn.ReLU(True),\n",
        "            # state size. ``(ngf) x 32 x 32``\n",
        "            nn.ConvTranspose2d( ngf, nc, 4, 2, 1, bias=False),\n",
        "            nn.Tanh()\n",
        "            # state size. ``(nc) x 64 x 64``\n",
        "        )\n",
        "\n",
        "    def forward(self, input):\n",
        "        return self.main(input)"
      ]
    },
    {
      "cell_type": "markdown",
      "metadata": {
        "id": "llLzJa4xt7BH"
      },
      "source": [
        "## Generator Initialization"
      ]
    },
    {
      "cell_type": "code",
      "execution_count": null,
      "metadata": {
        "colab": {
          "base_uri": "https://localhost:8080/"
        },
        "id": "EcxzSUTGuDeV",
        "outputId": "f2140fbf-a039-469a-87c4-f73d954b9e82"
      },
      "outputs": [
        {
          "name": "stdout",
          "output_type": "stream",
          "text": [
            "Generator(\n",
            "  (main): Sequential(\n",
            "    (0): ConvTranspose2d(100, 512, kernel_size=(4, 4), stride=(1, 1), bias=False)\n",
            "    (1): BatchNorm2d(512, eps=1e-05, momentum=0.1, affine=True, track_running_stats=True)\n",
            "    (2): ReLU(inplace=True)\n",
            "    (3): ConvTranspose2d(512, 256, kernel_size=(4, 4), stride=(2, 2), padding=(1, 1), bias=False)\n",
            "    (4): BatchNorm2d(256, eps=1e-05, momentum=0.1, affine=True, track_running_stats=True)\n",
            "    (5): ReLU(inplace=True)\n",
            "    (6): ConvTranspose2d(256, 128, kernel_size=(4, 4), stride=(2, 2), padding=(1, 1), bias=False)\n",
            "    (7): BatchNorm2d(128, eps=1e-05, momentum=0.1, affine=True, track_running_stats=True)\n",
            "    (8): ReLU(inplace=True)\n",
            "    (9): ConvTranspose2d(128, 64, kernel_size=(4, 4), stride=(2, 2), padding=(1, 1), bias=False)\n",
            "    (10): BatchNorm2d(64, eps=1e-05, momentum=0.1, affine=True, track_running_stats=True)\n",
            "    (11): ReLU(inplace=True)\n",
            "    (12): ConvTranspose2d(64, 3, kernel_size=(4, 4), stride=(2, 2), padding=(1, 1), bias=False)\n",
            "    (13): Tanh()\n",
            "  )\n",
            ")\n"
          ]
        }
      ],
      "source": [
        "# Create the generator\n",
        "netG = Generator(ngpu).to(device)\n",
        "\n",
        "# Handle multi-GPU if desired\n",
        "if (device.type == 'cuda') and (ngpu > 1):\n",
        "    netG = nn.DataParallel(netG, list(range(ngpu)))\n",
        "\n",
        "# Apply the ``weights_init`` function to randomly initialize all weights\n",
        "#  to ``mean=0``, ``stdev=0.02``.\n",
        "netG.apply(weights_init)\n",
        "\n",
        "# Print the model\n",
        "print(netG)"
      ]
    },
    {
      "cell_type": "markdown",
      "metadata": {
        "id": "zsKhOPyhtmTf"
      },
      "source": [
        "## Discriminator Class Definition"
      ]
    },
    {
      "cell_type": "code",
      "execution_count": null,
      "metadata": {
        "id": "bS-2RGOotplP"
      },
      "outputs": [],
      "source": [
        "class Discriminator(nn.Module):\n",
        "    def __init__(self, ngpu):\n",
        "        super(Discriminator, self).__init__()\n",
        "        self.ngpu = ngpu\n",
        "        self.main = nn.Sequential(\n",
        "            # input is ``(nc) x 64 x 64``\n",
        "            nn.Conv2d(nc, ndf, 4, 2, 1, bias=False),\n",
        "            nn.LeakyReLU(0.2, inplace=True),\n",
        "            # state size. ``(ndf) x 32 x 32``\n",
        "            nn.Conv2d(ndf, ndf * 2, 4, 2, 1, bias=False),\n",
        "            nn.BatchNorm2d(ndf * 2),\n",
        "            nn.LeakyReLU(0.2, inplace=True),\n",
        "            # state size. ``(ndf*2) x 16 x 16``\n",
        "            nn.Conv2d(ndf * 2, ndf * 4, 4, 2, 1, bias=False),\n",
        "            nn.BatchNorm2d(ndf * 4),\n",
        "            nn.LeakyReLU(0.2, inplace=True),\n",
        "            # state size. ``(ndf*4) x 8 x 8``\n",
        "            nn.Conv2d(ndf * 4, ndf * 8, 4, 2, 1, bias=False),\n",
        "            nn.BatchNorm2d(ndf * 8),\n",
        "            nn.LeakyReLU(0.2, inplace=True),\n",
        "            # state size. ``(ndf*8) x 4 x 4``\n",
        "            nn.Conv2d(ndf * 8, 1, 4, 1, 0, bias=False),\n",
        "            nn.Sigmoid()\n",
        "        )\n",
        "\n",
        "    def forward(self, input):\n",
        "        return self.main(input)"
      ]
    },
    {
      "cell_type": "markdown",
      "metadata": {
        "id": "0iGJB5rSudfq"
      },
      "source": [
        "## Discriminator Initialization"
      ]
    },
    {
      "cell_type": "code",
      "execution_count": null,
      "metadata": {
        "colab": {
          "base_uri": "https://localhost:8080/"
        },
        "id": "39v1NZTluhsv",
        "outputId": "d44c2d09-977b-417e-d30a-1aef54a0d964"
      },
      "outputs": [
        {
          "name": "stdout",
          "output_type": "stream",
          "text": [
            "Discriminator(\n",
            "  (main): Sequential(\n",
            "    (0): Conv2d(3, 64, kernel_size=(4, 4), stride=(2, 2), padding=(1, 1), bias=False)\n",
            "    (1): LeakyReLU(negative_slope=0.2, inplace=True)\n",
            "    (2): Conv2d(64, 128, kernel_size=(4, 4), stride=(2, 2), padding=(1, 1), bias=False)\n",
            "    (3): BatchNorm2d(128, eps=1e-05, momentum=0.1, affine=True, track_running_stats=True)\n",
            "    (4): LeakyReLU(negative_slope=0.2, inplace=True)\n",
            "    (5): Conv2d(128, 256, kernel_size=(4, 4), stride=(2, 2), padding=(1, 1), bias=False)\n",
            "    (6): BatchNorm2d(256, eps=1e-05, momentum=0.1, affine=True, track_running_stats=True)\n",
            "    (7): LeakyReLU(negative_slope=0.2, inplace=True)\n",
            "    (8): Conv2d(256, 512, kernel_size=(4, 4), stride=(2, 2), padding=(1, 1), bias=False)\n",
            "    (9): BatchNorm2d(512, eps=1e-05, momentum=0.1, affine=True, track_running_stats=True)\n",
            "    (10): LeakyReLU(negative_slope=0.2, inplace=True)\n",
            "    (11): Conv2d(512, 1, kernel_size=(4, 4), stride=(1, 1), bias=False)\n",
            "    (12): Sigmoid()\n",
            "  )\n",
            ")\n"
          ]
        }
      ],
      "source": [
        "# Create the Discriminator\n",
        "netD = Discriminator(ngpu).to(device)\n",
        "\n",
        "# Handle multi-GPU if desired\n",
        "if (device.type == 'cuda') and (ngpu > 1):\n",
        "    netD = nn.DataParallel(netD, list(range(ngpu)))\n",
        "\n",
        "# Apply the ``weights_init`` function to randomly initialize all weights\n",
        "# like this: ``to mean=0, stdev=0.2``.\n",
        "netD.apply(weights_init)\n",
        "\n",
        "# Print the model\n",
        "print(netD)"
      ]
    },
    {
      "cell_type": "markdown",
      "metadata": {
        "id": "rIp4iJvJunMG"
      },
      "source": [
        "## Optimizer Definition"
      ]
    },
    {
      "cell_type": "code",
      "execution_count": null,
      "metadata": {
        "id": "0PRLF2b5utej"
      },
      "outputs": [],
      "source": [
        "# Initialize the ``BCELoss`` function\n",
        "criterion = nn.BCELoss()\n",
        "\n",
        "# Create batch of latent vectors that we will use to visualize\n",
        "#  the progression of the generator\n",
        "fixed_noise = torch.randn(64, nz, 1, 1, device=device)\n",
        "\n",
        "# Establish convention for real and fake labels during training\n",
        "real_label = 1.\n",
        "fake_label = 0.\n",
        "\n",
        "# Setup Adam optimizers for both G and D\n",
        "optimizerD = optim.Adam(netD.parameters(), lr=lr, betas=(beta1, 0.999))\n",
        "optimizerG = optim.Adam(netG.parameters(), lr=lr, betas=(beta1, 0.999))"
      ]
    },
    {
      "cell_type": "markdown",
      "metadata": {
        "id": "uykZHC2muxEI"
      },
      "source": [
        "# Training Loop"
      ]
    },
    {
      "cell_type": "code",
      "execution_count": null,
      "metadata": {
        "colab": {
          "base_uri": "https://localhost:8080/"
        },
        "id": "h6tUNb0du040",
        "outputId": "5dfe59e9-6e18-4fa1-f92c-128f744503cc"
      },
      "outputs": [
        {
          "name": "stdout",
          "output_type": "stream",
          "text": [
            "Starting Training Loop...\n",
            "[0/5][0/1200]\tLoss_D: 1.4238\tLoss_G: 5.1996\tD(x): 0.5623\tD(G(z)): 0.4680 / 0.0073\n",
            "time per 50 iterations: 45.24305200576782\n",
            "[0/5][50/1200]\tLoss_D: 0.2718\tLoss_G: 24.3947\tD(x): 0.8501\tD(G(z)): 0.0000 / 0.0000\n",
            "time per 50 iterations: 251.2318468093872\n",
            "[0/5][100/1200]\tLoss_D: 1.2585\tLoss_G: 8.9115\tD(x): 0.8788\tD(G(z)): 0.6185 / 0.0002\n",
            "time per 50 iterations: 247.47771954536438\n",
            "[0/5][150/1200]\tLoss_D: 0.3083\tLoss_G: 3.6325\tD(x): 0.8058\tD(G(z)): 0.0620 / 0.0391\n",
            "time per 50 iterations: 246.13757371902466\n",
            "[0/5][200/1200]\tLoss_D: 0.5486\tLoss_G: 1.9109\tD(x): 0.6726\tD(G(z)): 0.0595 / 0.2050\n",
            "time per 50 iterations: 271.57999444007874\n",
            "[0/5][250/1200]\tLoss_D: 0.6377\tLoss_G: 1.8996\tD(x): 0.6668\tD(G(z)): 0.1430 / 0.1966\n",
            "time per 50 iterations: 246.40299463272095\n",
            "[0/5][300/1200]\tLoss_D: 0.5484\tLoss_G: 3.8910\tD(x): 0.8594\tD(G(z)): 0.2892 / 0.0323\n",
            "time per 50 iterations: 234.02320170402527\n",
            "[0/5][350/1200]\tLoss_D: 0.7108\tLoss_G: 2.0107\tD(x): 0.5970\tD(G(z)): 0.0218 / 0.1825\n",
            "time per 50 iterations: 251.43586540222168\n",
            "[0/5][400/1200]\tLoss_D: 1.2911\tLoss_G: 1.6919\tD(x): 0.3698\tD(G(z)): 0.0252 / 0.2921\n",
            "time per 50 iterations: 270.8224341869354\n",
            "[0/5][450/1200]\tLoss_D: 0.4269\tLoss_G: 2.1327\tD(x): 0.7188\tD(G(z)): 0.0516 / 0.1478\n",
            "time per 50 iterations: 237.25834321975708\n",
            "[0/5][500/1200]\tLoss_D: 0.4122\tLoss_G: 3.8627\tD(x): 0.8208\tD(G(z)): 0.1624 / 0.0357\n",
            "time per 50 iterations: 246.37453889846802\n",
            "[0/5][550/1200]\tLoss_D: 1.5631\tLoss_G: 1.6754\tD(x): 0.3053\tD(G(z)): 0.0169 / 0.2558\n",
            "time per 50 iterations: 309.9405589103699\n",
            "[0/5][600/1200]\tLoss_D: 0.4461\tLoss_G: 3.0367\tD(x): 0.8467\tD(G(z)): 0.2259 / 0.0589\n",
            "time per 50 iterations: 279.6350474357605\n",
            "[0/5][650/1200]\tLoss_D: 0.9340\tLoss_G: 3.1670\tD(x): 0.4757\tD(G(z)): 0.0163 / 0.0723\n",
            "time per 50 iterations: 247.27634453773499\n",
            "[0/5][700/1200]\tLoss_D: 0.4852\tLoss_G: 2.3625\tD(x): 0.7295\tD(G(z)): 0.1327 / 0.1183\n",
            "time per 50 iterations: 232.60578155517578\n",
            "[0/5][750/1200]\tLoss_D: 1.5461\tLoss_G: 0.8140\tD(x): 0.2757\tD(G(z)): 0.0123 / 0.4895\n",
            "time per 50 iterations: 332.40590715408325\n",
            "[0/5][800/1200]\tLoss_D: 0.4967\tLoss_G: 2.9911\tD(x): 0.7186\tD(G(z)): 0.1055 / 0.0774\n",
            "time per 50 iterations: 250.73393654823303\n",
            "[0/5][850/1200]\tLoss_D: 0.6182\tLoss_G: 1.8491\tD(x): 0.7255\tD(G(z)): 0.2030 / 0.2078\n",
            "time per 50 iterations: 228.82250356674194\n",
            "[0/5][900/1200]\tLoss_D: 0.7072\tLoss_G: 2.9627\tD(x): 0.7187\tD(G(z)): 0.2540 / 0.0751\n",
            "time per 50 iterations: 235.61997961997986\n",
            "[0/5][950/1200]\tLoss_D: 0.5295\tLoss_G: 2.1015\tD(x): 0.8149\tD(G(z)): 0.2360 / 0.1589\n",
            "time per 50 iterations: 268.1244480609894\n",
            "[0/5][1000/1200]\tLoss_D: 1.1793\tLoss_G: 0.7896\tD(x): 0.3905\tD(G(z)): 0.0424 / 0.5064\n",
            "time per 50 iterations: 228.75426745414734\n",
            "[0/5][1050/1200]\tLoss_D: 0.5835\tLoss_G: 2.1465\tD(x): 0.7031\tD(G(z)): 0.1569 / 0.1508\n",
            "time per 50 iterations: 227.2744779586792\n",
            "[0/5][1100/1200]\tLoss_D: 0.7882\tLoss_G: 3.0629\tD(x): 0.7694\tD(G(z)): 0.3551 / 0.0665\n",
            "time per 50 iterations: 227.9006998538971\n",
            "[0/5][1150/1200]\tLoss_D: 0.6104\tLoss_G: 1.9010\tD(x): 0.7086\tD(G(z)): 0.1697 / 0.2090\n",
            "time per 50 iterations: 266.0529594421387\n",
            "Time per epoc101.96277524232865\n",
            "[1/5][0/1200]\tLoss_D: 0.5648\tLoss_G: 2.5083\tD(x): 0.8835\tD(G(z)): 0.3223 / 0.1072\n",
            "time per 50 iterations: 236.1102204322815\n",
            "[1/5][50/1200]\tLoss_D: 0.6818\tLoss_G: 1.9075\tD(x): 0.6854\tD(G(z)): 0.1978 / 0.1879\n",
            "time per 50 iterations: 7.317011833190918\n",
            "[1/5][100/1200]\tLoss_D: 0.6292\tLoss_G: 1.9338\tD(x): 0.6764\tD(G(z)): 0.1528 / 0.1848\n",
            "time per 50 iterations: 7.5843260288238525\n",
            "[1/5][150/1200]\tLoss_D: 0.4853\tLoss_G: 1.6925\tD(x): 0.7052\tD(G(z)): 0.0870 / 0.2170\n",
            "time per 50 iterations: 7.325690746307373\n",
            "[1/5][200/1200]\tLoss_D: 0.5273\tLoss_G: 1.8683\tD(x): 0.7981\tD(G(z)): 0.2219 / 0.1941\n",
            "time per 50 iterations: 7.845436334609985\n",
            "[1/5][250/1200]\tLoss_D: 0.9998\tLoss_G: 0.9706\tD(x): 0.5142\tD(G(z)): 0.1898 / 0.4386\n",
            "time per 50 iterations: 7.414904594421387\n",
            "[1/5][300/1200]\tLoss_D: 0.4605\tLoss_G: 2.1497\tD(x): 0.7550\tD(G(z)): 0.1269 / 0.1412\n",
            "time per 50 iterations: 7.308418273925781\n",
            "[1/5][350/1200]\tLoss_D: 0.4212\tLoss_G: 2.4468\tD(x): 0.7614\tD(G(z)): 0.1111 / 0.1107\n",
            "time per 50 iterations: 7.440768718719482\n",
            "[1/5][400/1200]\tLoss_D: 0.6002\tLoss_G: 2.5918\tD(x): 0.6894\tD(G(z)): 0.1442 / 0.1113\n",
            "time per 50 iterations: 7.8118720054626465\n",
            "[1/5][450/1200]\tLoss_D: 0.5427\tLoss_G: 2.6529\tD(x): 0.8652\tD(G(z)): 0.2835 / 0.0976\n",
            "time per 50 iterations: 7.540221929550171\n",
            "[1/5][500/1200]\tLoss_D: 0.7683\tLoss_G: 3.9982\tD(x): 0.9557\tD(G(z)): 0.4631 / 0.0274\n",
            "time per 50 iterations: 7.392090797424316\n",
            "[1/5][550/1200]\tLoss_D: 0.3914\tLoss_G: 2.8797\tD(x): 0.7904\tD(G(z)): 0.1188 / 0.0768\n",
            "time per 50 iterations: 7.377472400665283\n",
            "[1/5][600/1200]\tLoss_D: 0.6482\tLoss_G: 3.3770\tD(x): 0.8713\tD(G(z)): 0.3553 / 0.0462\n",
            "time per 50 iterations: 7.832136154174805\n",
            "[1/5][650/1200]\tLoss_D: 1.0400\tLoss_G: 5.6912\tD(x): 0.9608\tD(G(z)): 0.5721 / 0.0052\n",
            "time per 50 iterations: 7.439723491668701\n",
            "[1/5][700/1200]\tLoss_D: 0.5331\tLoss_G: 3.3208\tD(x): 0.8590\tD(G(z)): 0.2907 / 0.0460\n",
            "time per 50 iterations: 7.378034830093384\n",
            "[1/5][750/1200]\tLoss_D: 1.9919\tLoss_G: 0.4878\tD(x): 0.2040\tD(G(z)): 0.0605 / 0.6687\n",
            "time per 50 iterations: 7.320561408996582\n",
            "[1/5][800/1200]\tLoss_D: 0.5610\tLoss_G: 2.1761\tD(x): 0.6517\tD(G(z)): 0.0555 / 0.1473\n",
            "time per 50 iterations: 7.808698415756226\n",
            "[1/5][850/1200]\tLoss_D: 0.4664\tLoss_G: 2.0057\tD(x): 0.7721\tD(G(z)): 0.1631 / 0.1724\n",
            "time per 50 iterations: 7.297088146209717\n",
            "[1/5][900/1200]\tLoss_D: 0.4187\tLoss_G: 3.0806\tD(x): 0.8606\tD(G(z)): 0.2117 / 0.0565\n",
            "time per 50 iterations: 7.539673566818237\n",
            "[1/5][950/1200]\tLoss_D: 0.4940\tLoss_G: 1.9058\tD(x): 0.6627\tD(G(z)): 0.0417 / 0.1990\n",
            "time per 50 iterations: 7.413278818130493\n",
            "[1/5][1000/1200]\tLoss_D: 0.4098\tLoss_G: 3.1357\tD(x): 0.8767\tD(G(z)): 0.2228 / 0.0542\n",
            "time per 50 iterations: 7.830037593841553\n",
            "[1/5][1050/1200]\tLoss_D: 1.3881\tLoss_G: 0.8449\tD(x): 0.3564\tD(G(z)): 0.1349 / 0.4904\n",
            "time per 50 iterations: 7.564010381698608\n",
            "[1/5][1100/1200]\tLoss_D: 0.4836\tLoss_G: 2.9039\tD(x): 0.8122\tD(G(z)): 0.2116 / 0.0748\n",
            "time per 50 iterations: 7.594059944152832\n",
            "[1/5][1150/1200]\tLoss_D: 1.3749\tLoss_G: 0.9423\tD(x): 0.3215\tD(G(z)): 0.0178 / 0.4542\n",
            "time per 50 iterations: 7.529489517211914\n",
            "Time per epoc104.99015397230784\n",
            "[2/5][0/1200]\tLoss_D: 0.3642\tLoss_G: 3.0582\tD(x): 0.7980\tD(G(z)): 0.1001 / 0.0680\n",
            "time per 50 iterations: 8.696626424789429\n",
            "[2/5][50/1200]\tLoss_D: 0.3169\tLoss_G: 2.5693\tD(x): 0.9197\tD(G(z)): 0.1846 / 0.1036\n",
            "time per 50 iterations: 7.462887763977051\n",
            "[2/5][100/1200]\tLoss_D: 0.8013\tLoss_G: 4.9968\tD(x): 0.9604\tD(G(z)): 0.4684 / 0.0092\n",
            "time per 50 iterations: 7.47684907913208\n",
            "[2/5][150/1200]\tLoss_D: 0.3912\tLoss_G: 2.6803\tD(x): 0.8330\tD(G(z)): 0.1628 / 0.0877\n",
            "time per 50 iterations: 7.551061391830444\n",
            "[2/5][200/1200]\tLoss_D: 1.4631\tLoss_G: 8.1200\tD(x): 0.9842\tD(G(z)): 0.6896 / 0.0005\n",
            "time per 50 iterations: 8.020269870758057\n",
            "[2/5][250/1200]\tLoss_D: 0.4931\tLoss_G: 1.7654\tD(x): 0.6914\tD(G(z)): 0.0797 / 0.2215\n",
            "time per 50 iterations: 7.544243812561035\n",
            "[2/5][300/1200]\tLoss_D: 0.2662\tLoss_G: 2.2653\tD(x): 0.8497\tD(G(z)): 0.0856 / 0.1313\n",
            "time per 50 iterations: 7.586097478866577\n",
            "[2/5][350/1200]\tLoss_D: 0.7580\tLoss_G: 1.9619\tD(x): 0.7089\tD(G(z)): 0.2845 / 0.1781\n",
            "time per 50 iterations: 7.431251049041748\n",
            "[2/5][400/1200]\tLoss_D: 0.4975\tLoss_G: 5.4551\tD(x): 0.9588\tD(G(z)): 0.3226 / 0.0072\n",
            "time per 50 iterations: 7.894471168518066\n",
            "[2/5][450/1200]\tLoss_D: 0.2491\tLoss_G: 3.3314\tD(x): 0.9163\tD(G(z)): 0.1406 / 0.0449\n",
            "time per 50 iterations: 7.394407749176025\n",
            "[2/5][500/1200]\tLoss_D: 0.3453\tLoss_G: 4.0343\tD(x): 0.9220\tD(G(z)): 0.2094 / 0.0239\n",
            "time per 50 iterations: 7.532048940658569\n",
            "[2/5][550/1200]\tLoss_D: 0.2085\tLoss_G: 3.0815\tD(x): 0.8957\tD(G(z)): 0.0848 / 0.0615\n",
            "time per 50 iterations: 7.448380470275879\n",
            "[2/5][600/1200]\tLoss_D: 0.6430\tLoss_G: 1.7344\tD(x): 0.5879\tD(G(z)): 0.0354 / 0.2212\n",
            "time per 50 iterations: 7.82976770401001\n",
            "[2/5][650/1200]\tLoss_D: 0.2032\tLoss_G: 2.8725\tD(x): 0.8905\tD(G(z)): 0.0756 / 0.0704\n",
            "time per 50 iterations: 7.761277914047241\n",
            "[2/5][700/1200]\tLoss_D: 0.3301\tLoss_G: 2.3862\tD(x): 0.7903\tD(G(z)): 0.0729 / 0.1237\n",
            "time per 50 iterations: 7.4381444454193115\n",
            "[2/5][750/1200]\tLoss_D: 0.8564\tLoss_G: 4.8412\tD(x): 0.9760\tD(G(z)): 0.4781 / 0.0142\n",
            "time per 50 iterations: 7.475009918212891\n",
            "[2/5][800/1200]\tLoss_D: 1.1739\tLoss_G: 7.5840\tD(x): 0.9923\tD(G(z)): 0.5982 / 0.0011\n",
            "time per 50 iterations: 7.622249126434326\n",
            "[2/5][850/1200]\tLoss_D: 0.2656\tLoss_G: 3.0388\tD(x): 0.9319\tD(G(z)): 0.1669 / 0.0616\n",
            "time per 50 iterations: 7.583493709564209\n",
            "[2/5][900/1200]\tLoss_D: 0.2543\tLoss_G: 4.1369\tD(x): 0.9516\tD(G(z)): 0.1719 / 0.0220\n",
            "time per 50 iterations: 7.486731290817261\n",
            "[2/5][950/1200]\tLoss_D: 0.3384\tLoss_G: 2.3064\tD(x): 0.7746\tD(G(z)): 0.0556 / 0.1249\n",
            "time per 50 iterations: 7.612413167953491\n",
            "[2/5][1000/1200]\tLoss_D: 0.6099\tLoss_G: 2.6144\tD(x): 0.6011\tD(G(z)): 0.0189 / 0.1078\n",
            "time per 50 iterations: 7.8880555629730225\n",
            "[2/5][1050/1200]\tLoss_D: 0.2441\tLoss_G: 3.1666\tD(x): 0.8994\tD(G(z)): 0.1197 / 0.0525\n",
            "time per 50 iterations: 7.335630893707275\n",
            "[2/5][1100/1200]\tLoss_D: 0.3975\tLoss_G: 3.3978\tD(x): 0.8124\tD(G(z)): 0.1188 / 0.0478\n",
            "time per 50 iterations: 7.49701452255249\n",
            "[2/5][1150/1200]\tLoss_D: 0.2794\tLoss_G: 3.8439\tD(x): 0.9273\tD(G(z)): 0.1598 / 0.0313\n",
            "time per 50 iterations: 7.462267875671387\n",
            "Time per epoc108.0457782069842\n",
            "[3/5][0/1200]\tLoss_D: 0.7952\tLoss_G: 5.9054\tD(x): 0.9917\tD(G(z)): 0.5011 / 0.0041\n",
            "time per 50 iterations: 9.075895547866821\n",
            "[3/5][50/1200]\tLoss_D: 0.7360\tLoss_G: 2.5011\tD(x): 0.5672\tD(G(z)): 0.0468 / 0.1387\n",
            "time per 50 iterations: 7.470910549163818\n",
            "[3/5][100/1200]\tLoss_D: 0.1990\tLoss_G: 3.0074\tD(x): 0.8816\tD(G(z)): 0.0602 / 0.0749\n",
            "time per 50 iterations: 7.475023031234741\n",
            "[3/5][150/1200]\tLoss_D: 0.3080\tLoss_G: 3.6768\tD(x): 0.8698\tD(G(z)): 0.1323 / 0.0379\n",
            "time per 50 iterations: 7.553248405456543\n",
            "[3/5][200/1200]\tLoss_D: 0.2418\tLoss_G: 3.4616\tD(x): 0.8942\tD(G(z)): 0.1097 / 0.0451\n",
            "time per 50 iterations: 7.685457944869995\n",
            "[3/5][250/1200]\tLoss_D: 0.1765\tLoss_G: 3.2092\tD(x): 0.9259\tD(G(z)): 0.0880 / 0.0571\n",
            "time per 50 iterations: 7.699634790420532\n",
            "[3/5][300/1200]\tLoss_D: 0.4478\tLoss_G: 2.3814\tD(x): 0.6914\tD(G(z)): 0.0298 / 0.1405\n",
            "time per 50 iterations: 7.441665887832642\n",
            "[3/5][350/1200]\tLoss_D: 0.1461\tLoss_G: 3.4794\tD(x): 0.9466\tD(G(z)): 0.0822 / 0.0406\n",
            "time per 50 iterations: 7.6117103099823\n",
            "[3/5][400/1200]\tLoss_D: 0.2325\tLoss_G: 3.5412\tD(x): 0.8801\tD(G(z)): 0.0767 / 0.0425\n",
            "time per 50 iterations: 7.711998224258423\n",
            "[3/5][450/1200]\tLoss_D: 0.5189\tLoss_G: 3.3861\tD(x): 0.7901\tD(G(z)): 0.1582 / 0.0569\n",
            "time per 50 iterations: 7.483983993530273\n",
            "[3/5][500/1200]\tLoss_D: 0.2568\tLoss_G: 2.3709\tD(x): 0.8315\tD(G(z)): 0.0517 / 0.1254\n",
            "time per 50 iterations: 7.572803735733032\n",
            "[3/5][550/1200]\tLoss_D: 0.1841\tLoss_G: 3.5913\tD(x): 0.9346\tD(G(z)): 0.1016 / 0.0406\n",
            "time per 50 iterations: 7.429896831512451\n",
            "[3/5][600/1200]\tLoss_D: 0.3066\tLoss_G: 4.2016\tD(x): 0.9315\tD(G(z)): 0.1903 / 0.0205\n",
            "time per 50 iterations: 7.734184503555298\n",
            "[3/5][650/1200]\tLoss_D: 0.2717\tLoss_G: 3.5891\tD(x): 0.8696\tD(G(z)): 0.1017 / 0.0438\n",
            "time per 50 iterations: 7.409151077270508\n",
            "[3/5][700/1200]\tLoss_D: 0.1959\tLoss_G: 3.2485\tD(x): 0.9267\tD(G(z)): 0.1046 / 0.0530\n",
            "time per 50 iterations: 7.455429553985596\n",
            "[3/5][750/1200]\tLoss_D: 0.1538\tLoss_G: 4.4211\tD(x): 0.9362\tD(G(z)): 0.0776 / 0.0182\n",
            "time per 50 iterations: 7.423931121826172\n",
            "[3/5][800/1200]\tLoss_D: 0.1404\tLoss_G: 4.0092\tD(x): 0.9459\tD(G(z)): 0.0744 / 0.0248\n",
            "time per 50 iterations: 7.793902397155762\n",
            "[3/5][850/1200]\tLoss_D: 0.1178\tLoss_G: 3.7478\tD(x): 0.9483\tD(G(z)): 0.0581 / 0.0352\n",
            "time per 50 iterations: 7.40633487701416\n",
            "[3/5][900/1200]\tLoss_D: 0.3650\tLoss_G: 1.7665\tD(x): 0.7289\tD(G(z)): 0.0090 / 0.2248\n",
            "time per 50 iterations: 7.569072008132935\n",
            "[3/5][950/1200]\tLoss_D: 0.7732\tLoss_G: 1.0359\tD(x): 0.5834\tD(G(z)): 0.0770 / 0.4573\n",
            "time per 50 iterations: 7.454257965087891\n",
            "[3/5][1000/1200]\tLoss_D: 0.2715\tLoss_G: 2.9437\tD(x): 0.8298\tD(G(z)): 0.0650 / 0.0839\n",
            "time per 50 iterations: 7.638737678527832\n",
            "[3/5][1050/1200]\tLoss_D: 0.1406\tLoss_G: 3.8100\tD(x): 0.9466\tD(G(z)): 0.0760 / 0.0320\n",
            "time per 50 iterations: 7.507065773010254\n",
            "[3/5][1100/1200]\tLoss_D: 0.1498\tLoss_G: 3.7887\tD(x): 0.9325\tD(G(z)): 0.0709 / 0.0311\n",
            "time per 50 iterations: 7.416306257247925\n",
            "[3/5][1150/1200]\tLoss_D: 0.9225\tLoss_G: 1.0747\tD(x): 0.5452\tD(G(z)): 0.1008 / 0.4237\n",
            "time per 50 iterations: 7.56264591217041\n",
            "Time per epoc111.08503674268722\n",
            "[4/5][0/1200]\tLoss_D: 0.2026\tLoss_G: 3.7008\tD(x): 0.9222\tD(G(z)): 0.0955 / 0.0368\n",
            "time per 50 iterations: 8.922903060913086\n",
            "[4/5][50/1200]\tLoss_D: 0.1897\tLoss_G: 3.6332\tD(x): 0.9043\tD(G(z)): 0.0759 / 0.0372\n",
            "time per 50 iterations: 7.591757774353027\n",
            "[4/5][100/1200]\tLoss_D: 0.1233\tLoss_G: 4.0516\tD(x): 0.9316\tD(G(z)): 0.0434 / 0.0255\n",
            "time per 50 iterations: 7.721028089523315\n",
            "[4/5][150/1200]\tLoss_D: 0.1055\tLoss_G: 4.2150\tD(x): 0.9697\tD(G(z)): 0.0694 / 0.0199\n",
            "time per 50 iterations: 7.645059823989868\n",
            "[4/5][200/1200]\tLoss_D: 0.1752\tLoss_G: 3.5171\tD(x): 0.9087\tD(G(z)): 0.0599 / 0.0473\n",
            "time per 50 iterations: 8.000833988189697\n",
            "[4/5][250/1200]\tLoss_D: 0.1475\tLoss_G: 5.0629\tD(x): 0.9798\tD(G(z)): 0.1130 / 0.0083\n",
            "time per 50 iterations: 7.845046043395996\n",
            "[4/5][300/1200]\tLoss_D: 0.6257\tLoss_G: 1.0665\tD(x): 0.6622\tD(G(z)): 0.0568 / 0.4340\n",
            "time per 50 iterations: 7.845248699188232\n",
            "[4/5][350/1200]\tLoss_D: 0.2386\tLoss_G: 3.0525\tD(x): 0.8357\tD(G(z)): 0.0281 / 0.0751\n",
            "time per 50 iterations: 7.802646636962891\n",
            "[4/5][400/1200]\tLoss_D: 0.1595\tLoss_G: 3.1554\tD(x): 0.9008\tD(G(z)): 0.0466 / 0.0703\n",
            "time per 50 iterations: 7.94966721534729\n",
            "[4/5][450/1200]\tLoss_D: 0.0733\tLoss_G: 4.6245\tD(x): 0.9561\tD(G(z)): 0.0264 / 0.0166\n",
            "time per 50 iterations: 7.772141933441162\n",
            "[4/5][500/1200]\tLoss_D: 0.0514\tLoss_G: 5.0369\tD(x): 0.9667\tD(G(z)): 0.0164 / 0.0098\n",
            "time per 50 iterations: 7.605677843093872\n",
            "[4/5][550/1200]\tLoss_D: 0.0974\tLoss_G: 4.8147\tD(x): 0.9816\tD(G(z)): 0.0719 / 0.0117\n",
            "time per 50 iterations: 7.687078237533569\n",
            "[4/5][600/1200]\tLoss_D: 0.2571\tLoss_G: 5.0342\tD(x): 0.9710\tD(G(z)): 0.1860 / 0.0087\n",
            "time per 50 iterations: 7.892683982849121\n",
            "[4/5][650/1200]\tLoss_D: 0.1366\tLoss_G: 5.3661\tD(x): 0.9911\tD(G(z)): 0.1152 / 0.0061\n",
            "time per 50 iterations: 7.774860143661499\n",
            "[4/5][700/1200]\tLoss_D: 0.4681\tLoss_G: 5.1716\tD(x): 0.9369\tD(G(z)): 0.2821 / 0.0106\n",
            "time per 50 iterations: 7.718549489974976\n",
            "[4/5][750/1200]\tLoss_D: 0.2554\tLoss_G: 4.3081\tD(x): 0.9239\tD(G(z)): 0.1381 / 0.0184\n",
            "time per 50 iterations: 7.633715391159058\n",
            "[4/5][800/1200]\tLoss_D: 0.1731\tLoss_G: 3.3432\tD(x): 0.8887\tD(G(z)): 0.0449 / 0.0606\n",
            "time per 50 iterations: 7.764066457748413\n",
            "[4/5][850/1200]\tLoss_D: 0.1215\tLoss_G: 3.6610\tD(x): 0.9199\tD(G(z)): 0.0297 / 0.0508\n",
            "time per 50 iterations: 7.503578424453735\n",
            "[4/5][900/1200]\tLoss_D: 0.0770\tLoss_G: 4.2874\tD(x): 0.9674\tD(G(z)): 0.0406 / 0.0196\n",
            "time per 50 iterations: 7.7915003299713135\n",
            "[4/5][950/1200]\tLoss_D: 0.0991\tLoss_G: 4.6517\tD(x): 0.9196\tD(G(z)): 0.0103 / 0.0193\n",
            "time per 50 iterations: 7.762734651565552\n",
            "[4/5][1000/1200]\tLoss_D: 0.0847\tLoss_G: 4.0186\tD(x): 0.9610\tD(G(z)): 0.0417 / 0.0237\n",
            "time per 50 iterations: 7.950318098068237\n",
            "[4/5][1050/1200]\tLoss_D: 1.1199\tLoss_G: 2.3575\tD(x): 0.6564\tD(G(z)): 0.4021 / 0.1225\n",
            "time per 50 iterations: 7.7715606689453125\n",
            "[4/5][1100/1200]\tLoss_D: 0.3694\tLoss_G: 4.4897\tD(x): 0.8748\tD(G(z)): 0.1776 / 0.0180\n",
            "time per 50 iterations: 7.628860712051392\n",
            "[4/5][1150/1200]\tLoss_D: 0.1423\tLoss_G: 4.3095\tD(x): 0.9357\tD(G(z)): 0.0655 / 0.0219\n",
            "time per 50 iterations: 7.815511226654053\n",
            "Time per epoc114.21156472365061\n"
          ]
        }
      ],
      "source": [
        "# Training Loop\n",
        "\n",
        "# Lists to keep track of progress\n",
        "img_list = []\n",
        "G_losses = []\n",
        "D_losses = []\n",
        "iters = 0\n",
        "\n",
        "print(\"Starting Training Loop...\")\n",
        "\n",
        "start_time = time()\n",
        "iter_start_time = start_time\n",
        "# For each epoch\n",
        "for epoch in range(num_epochs):\n",
        "    # For each batch in the dataloader\n",
        "    for i, data in enumerate(dataloader, 0):\n",
        "\n",
        "        ############################\n",
        "        # (1) Update D network: maximize log(D(x)) + log(1 - D(G(z)))\n",
        "        ###########################\n",
        "        ## Train with all-real batch\n",
        "        netD.zero_grad()\n",
        "        # Format batch\n",
        "        real_cpu = data[0].to(device)\n",
        "        b_size = real_cpu.size(0)\n",
        "        label = torch.full((b_size,), real_label, dtype=torch.float, device=device)\n",
        "        # Forward pass real batch through D\n",
        "        output = netD(real_cpu).view(-1)\n",
        "        # Calculate loss on all-real batch\n",
        "        errD_real = criterion(output, label)\n",
        "        # Calculate gradients for D in backward pass\n",
        "        errD_real.backward()\n",
        "        D_x = output.mean().item()\n",
        "\n",
        "        ## Train with all-fake batch\n",
        "        # Generate batch of latent vectors\n",
        "        noise = torch.randn(b_size, nz, 1, 1, device=device)\n",
        "        # Generate fake image batch with G\n",
        "        fake = netG(noise)\n",
        "        label.fill_(fake_label)\n",
        "        # Classify all fake batch with D\n",
        "        output = netD(fake.detach()).view(-1)\n",
        "        # Calculate D's loss on the all-fake batch\n",
        "        errD_fake = criterion(output, label)\n",
        "        # Calculate the gradients for this batch, accumulated (summed) with previous gradients\n",
        "        errD_fake.backward()\n",
        "        D_G_z1 = output.mean().item()\n",
        "        # Compute error of D as sum over the fake and the real batches\n",
        "        errD = errD_real + errD_fake\n",
        "        # Update D\n",
        "        optimizerD.step()\n",
        "\n",
        "        ############################\n",
        "        # (2) Update G network: maximize log(D(G(z)))\n",
        "        ###########################\n",
        "        netG.zero_grad()\n",
        "        label.fill_(real_label)  # fake labels are real for generator cost\n",
        "        # Since we just updated D, perform another forward pass of all-fake batch through D\n",
        "        output = netD(fake).view(-1)\n",
        "        # Calculate G's loss based on this output\n",
        "        errG = criterion(output, label)\n",
        "        # Calculate gradients for G\n",
        "        errG.backward()\n",
        "        D_G_z2 = output.mean().item()\n",
        "        # Update G\n",
        "        optimizerG.step()\n",
        "\n",
        "        # Output training stats\n",
        "        if i % 50 == 0:\n",
        "            print('[%d/%d][%d/%d]\\tLoss_D: %.4f\\tLoss_G: %.4f\\tD(x): %.4f\\tD(G(z)): %.4f / %.4f'\n",
        "                  % (epoch, num_epochs, i, len(dataloader),\n",
        "                     errD.item(), errG.item(), D_x, D_G_z1, D_G_z2))\n",
        "            print (f\"time per 50 iterations: {time()-iter_start_time}\")\n",
        "            iter_start_time = time()\n",
        "\n",
        "        # Save Losses for plotting later\n",
        "        G_losses.append(errG.item())\n",
        "        D_losses.append(errD.item())\n",
        "\n",
        "        # Check how the generator is doing by saving G's output on fixed_noise\n",
        "        if (iters % 500 == 0) or ((epoch == num_epochs-1) and (i == len(dataloader)-1)):\n",
        "            with torch.no_grad():\n",
        "                fake = netG(fixed_noise).detach().cpu()\n",
        "            img_list.append(vutils.make_grid(fake, padding=2, normalize=True))\n",
        "\n",
        "        iters += 1\n",
        "    print(f\"Time per epoc{(time()-start_time)/60}\")"
      ]
    },
    {
      "cell_type": "markdown",
      "metadata": {
        "id": "CU3s9Khtha92"
      },
      "source": [
        "## Saving Model\n",
        "Saving model with pickle library."
      ]
    },
    {
      "cell_type": "code",
      "execution_count": null,
      "metadata": {
        "id": "ERLrbj12hapx"
      },
      "outputs": [],
      "source": [
        "filenameG = 'Vcat_generator.sav'\n",
        "pickle.dump(netG, open(filenameG, 'wb'))\n",
        "\n",
        "filenameD = 'Vcat_discriminator.sav'\n",
        "pickle.dump(netD, open(filenameD, 'wb'))"
      ]
    },
    {
      "cell_type": "code",
      "execution_count": null,
      "metadata": {
        "id": "pOP_tewwllwm"
      },
      "outputs": [],
      "source": [
        "!cp Vcat_generator.sav /content/drive/MyDrive/1_Models"
      ]
    },
    {
      "cell_type": "code",
      "execution_count": null,
      "metadata": {
        "id": "RVX4cIFxl-MV"
      },
      "outputs": [],
      "source": [
        "!cp Vcat_discriminator.sav /content/drive/MyDrive/1_Models"
      ]
    },
    {
      "cell_type": "markdown",
      "metadata": {},
      "source": [
        "Loading Generator to test if the model was saved."
      ]
    },
    {
      "cell_type": "code",
      "execution_count": null,
      "metadata": {
        "colab": {
          "base_uri": "https://localhost:8080/",
          "height": 978
        },
        "id": "wwwaQzbam__f",
        "outputId": "78ae7036-bcb0-4ee3-817b-2b21d3ee4c36"
      },
      "outputs": [],
      "source": [
        "noise = torch.randn(b_size, nz, 1, 1, device=device)\n",
        "\n",
        "\n",
        "loaded_model = pickle.load(open(\"/content/drive/MyDrive/1_Models/\"+filenameG, 'rb'))\n",
        "result = loaded_model(noise).cpu().detach()\n",
        "fake  = vutils.make_grid(result, padding=2, normalize=True)\n",
        "plt.figure(figsize=(15,15))\n",
        "plt.imshow(np.transpose(fake,(1,2,0)))\n",
        "plt.show()"
      ]
    },
    {
      "cell_type": "markdown",
      "metadata": {},
      "source": [
        "<img alt=\"Saved model\" src=\"img/no_bg_5ep/Saved_model.png\" />"
      ]
    },
    {
      "cell_type": "markdown",
      "metadata": {
        "id": "i29jPIkIvA3K"
      },
      "source": [
        "# Results"
      ]
    },
    {
      "cell_type": "markdown",
      "metadata": {
        "id": "e2rL9MXvvPJo"
      },
      "source": [
        "## Loss vs training plot"
      ]
    },
    {
      "cell_type": "code",
      "execution_count": null,
      "metadata": {
        "colab": {
          "base_uri": "https://localhost:8080/",
          "height": 487
        },
        "id": "WJpbYbthvCKi",
        "outputId": "7b0d25cd-6961-48e5-bd14-58525e6d9bb8"
      },
      "outputs": [],
      "source": [
        "plt.figure(figsize=(10,5))\n",
        "plt.title(\"Generator and Discriminator Loss During Training\")\n",
        "plt.plot(G_losses,label=\"G\")\n",
        "plt.plot(D_losses,label=\"D\")\n",
        "plt.xlabel(\"iterations\")\n",
        "plt.ylabel(\"Loss\")\n",
        "plt.legend()\n",
        "plt.show()"
      ]
    },
    {
      "cell_type": "markdown",
      "metadata": {},
      "source": [
        "<img alt=\"Loss plot\" src=\"img/no_bg_5ep/Loss_function.png\" />"
      ]
    },
    {
      "cell_type": "markdown",
      "metadata": {
        "id": "20TL7EKavXQx"
      },
      "source": [
        "## Visualization of Generator’s progression"
      ]
    },
    {
      "cell_type": "code",
      "execution_count": null,
      "metadata": {
        "colab": {
          "base_uri": "https://localhost:8080/",
          "height": 1000
        },
        "id": "r_lc6ZJjvf0L",
        "outputId": "e182170d-0669-4461-e17a-ae01430572e8"
      },
      "outputs": [],
      "source": [
        "fig = plt.figure(figsize=(8,8))\n",
        "plt.axis(\"off\")\n",
        "ims = [[plt.imshow(np.transpose(i,(1,2,0)), animated=True)] for i in img_list]\n",
        "ani = animation.ArtistAnimation(fig, ims, interval=1000, repeat_delay=1000, blit=True)\n",
        "\n",
        "HTML(ani.to_jshtml())"
      ]
    },
    {
      "cell_type": "markdown",
      "metadata": {
        "id": "9OzBEptQvmht"
      },
      "source": [
        "## Real vs. Fake"
      ]
    },
    {
      "cell_type": "code",
      "execution_count": null,
      "metadata": {
        "colab": {
          "base_uri": "https://localhost:8080/",
          "height": 483
        },
        "id": "jiCHjBNfvv92",
        "outputId": "5cdd0d11-0f65-495e-ad48-35cac17f5854"
      },
      "outputs": [],
      "source": [
        "# Grab a batch of real images from the dataloader\n",
        "real_batch = next(iter(dataloader))\n",
        "\n",
        "# Plot the real images\n",
        "plt.figure(figsize=(15,15))\n",
        "plt.subplot(1,2,1)\n",
        "plt.axis(\"off\")\n",
        "plt.title(\"Real Images\")\n",
        "plt.imshow(np.transpose(vutils.make_grid(real_batch[0].to(device)[:64], padding=5, normalize=True).cpu(),(1,2,0)))\n",
        "\n",
        "# Plot the fake images from the last epoch\n",
        "plt.subplot(1,2,2)\n",
        "plt.axis(\"off\")\n",
        "plt.title(\"Fake Images\")\n",
        "plt.imshow(np.transpose(img_list[-1],(1,2,0)))\n",
        "plt.show()"
      ]
    },
    {
      "cell_type": "markdown",
      "metadata": {},
      "source": [
        "<img alt=\"Real vs fake img\" src=\"img/no_bg_5ep/Real_vs_fake.png\" />"
      ]
    }
  ],
  "metadata": {
    "accelerator": "GPU",
    "colab": {
      "gpuType": "T4",
      "machine_shape": "hm",
      "provenance": []
    },
    "kernelspec": {
      "display_name": "Python 3",
      "name": "python3"
    },
    "language_info": {
      "name": "python"
    }
  },
  "nbformat": 4,
  "nbformat_minor": 0
}
